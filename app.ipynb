{
 "cells": [
  {
   "cell_type": "code",
   "execution_count": null,
   "metadata": {},
   "outputs": [],
   "source": [
    "NEWS_API = 'p9Heor4nHnJxXv4pCwnpKAin0L3nGOwo7u8RNkwg'"
   ]
  },
  {
   "cell_type": "code",
   "execution_count": null,
   "metadata": {},
   "outputs": [],
   "source": [
    "from langchain_text_splitters import RecursiveCharacterTextSplitter\n",
    "\n",
    "text_splitter = RecursiveCharacterTextSplitter(\n",
    "    # Set a really small chunk size, just to show.\n",
    "    chunk_size=512,\n",
    "    chunk_overlap=20,\n",
    "    length_function=len,\n",
    "    is_separator_regex=False,\n",
    ")"
   ]
  },
  {
   "cell_type": "code",
   "execution_count": null,
   "metadata": {},
   "outputs": [],
   "source": [
    "from langchain.embeddings import HuggingFaceEmbeddings\n",
    "\n",
    "embeddings = HuggingFaceEmbeddings(\n",
    "    model_name=\"BAAI/bge-large-en\"\n",
    ")"
   ]
  },
  {
   "cell_type": "code",
   "execution_count": null,
   "metadata": {},
   "outputs": [],
   "source": [
    "from langchain_core.prompts import PromptTemplate\n",
    "\n",
    "# Define the ChatPromptTemplate for user interaction\n",
    "template = \"\"\"Answer the following question from the context\n",
    "    context = {context}\n",
    "    question = {question}\n",
    "\"\"\"\n",
    "prompt = PromptTemplate(input_variables=[\"context\",\"question\"], template= template)"
   ]
  },
  {
   "cell_type": "code",
   "execution_count": null,
   "metadata": {},
   "outputs": [],
   "source": [
    "import requests\n",
    "from datetime import datetime, timedelta\n",
    "\n",
    "def get_top_news():\n",
    "    # Get the current time and subtract one day\n",
    "    one_day_ago = datetime.now() - timedelta(days=1)\n",
    "    # Format the date and time\n",
    "    published_after_time = one_day_ago.strftime(\"%Y-%m-%dT%H:%M:%S\")\n",
    "\n",
    "    # Define the endpoint URL\n",
    "    url = \"https://api.thenewsapi.com/v1/news/top\"\n",
    "\n",
    "    # Set the query parameters\n",
    "    params = {\n",
    "        'api_token': NEWS_API,\n",
    "        'locale': 'in',\n",
    "        'limit': 3,\n",
    "        'published_after': published_after_time\n",
    "    }\n",
    "\n",
    "    # Send the GET request\n",
    "    response = requests.get(url, params=params)\n",
    "\n",
    "    # Check if the request was successful\n",
    "    if response.status_code == 200:\n",
    "        # Return the JSON response\n",
    "        return response.json()\n",
    "    else:\n",
    "        # Return the error message\n",
    "        return response.text\n",
    "\n"
   ]
  },
  {
   "cell_type": "code",
   "execution_count": null,
   "metadata": {},
   "outputs": [],
   "source": [
    "import requests\n",
    "from bs4 import BeautifulSoup\n",
    "from langchain.docstore.document import Document\n",
    "from langchain_community.vectorstores import FAISS\n",
    "\n",
    "def scrape_news_data():\n",
    "\n",
    "    news_data = get_top_news()\n",
    "    scraped_data = []\n",
    "\n",
    "    for article in news_data['data']:\n",
    "        url = article['url']\n",
    "        response = requests.get(url)\n",
    "        soup = BeautifulSoup(response.content, 'html.parser')\n",
    "\n",
    "        # Extract the title of the article\n",
    "        title = soup.find('title').text\n",
    "\n",
    "        # Extract the text of the article\n",
    "        article_text = ''\n",
    "        for paragraph in soup.find_all('p'):\n",
    "            article_text += paragraph.text + '\\n'\n",
    "\n",
    "        # Create a document to store the scraped data\n",
    "        scraped_article = Document(page_content= article_text, metadata= {'title': title})\n",
    "\n",
    "        scraped_data.append(scraped_article)\n",
    "\n",
    "\n",
    "    vectorstore = FAISS.from_documents(text_splitter.split_documents(scraped_data),embeddings)\n",
    "\n",
    "    global retriever\n",
    "    retriever = vectorstore.as_retriever(search_kwargs= {'k':10})\n",
    "\n",
    "    return 'News Collected Successfully'\n",
    "\n"
   ]
  },
  {
   "cell_type": "code",
   "execution_count": null,
   "metadata": {},
   "outputs": [],
   "source": [
    "def get_context(message, retriever):\n",
    "\n",
    "    context = \"\\n\".join(\"title: \"+ doc.metadata[\"title\"]+ \"news: \"+ doc.page_content for doc in retriever.get_relevant_documents(message))\n",
    "    return context\n"
   ]
  },
  {
   "cell_type": "code",
   "execution_count": null,
   "metadata": {},
   "outputs": [],
   "source": [
    "from langchain_community.llms import Ollama\n",
    "\n",
    "def respond_to_query(query):\n",
    "    context = get_context(query, retriever)\n",
    "    llm = Ollama(model=\"llama3\")\n",
    "\n",
    "    return llm.invoke(prompt.format(question=query, context= context))"
   ]
  },
  {
   "cell_type": "code",
   "execution_count": null,
   "metadata": {},
   "outputs": [],
   "source": [
    "import subprocess\n",
    "import TTS\n",
    "\n",
    "def run_tts_command(text):\n",
    "    # Define the command as a list of arguments\n",
    "    command = [\n",
    "        'tts',  # Command executable\n",
    "        '--text', text,  # Text for TTS\n",
    "        '--model_name', 'tts_models/multilingual/multi-dataset/xtts_v2',  # Model name\n",
    "        '--vocoder_name', 'vocoder_models/universal/libri-tts/wavegrad',  # Vocoder name\n",
    "        '--out_path', '/home/vardh/ai-news-avatar/Wav2Lip/output.wav',  # Output path\n",
    "        '--speaker_idx', 'Brenda Stern',  # Speaker index\n",
    "        '--language_idx', 'en'  # Language index\n",
    "    ]\n",
    "\n",
    "    # Run the command\n",
    "    try:\n",
    "        result = subprocess.run(command, check=True, stdout=subprocess.PIPE, stderr=subprocess.PIPE)\n",
    "        print(\"TTS generation successful, output saved to 'output.wav'\")\n",
    "        return '/home/vardh/ai-news-avatar/Wav2Lip/output.wav'  # Return the standard output if needed\n",
    "    except subprocess.CalledProcessError as e:\n",
    "        print(f\"An error occurred: {e.stderr.decode()}\")\n",
    "        return None\n",
    "\n"
   ]
  },
  {
   "cell_type": "code",
   "execution_count": null,
   "metadata": {},
   "outputs": [],
   "source": [
    "import os\n",
    "import subprocess\n",
    "\n",
    "def run_wav2lip_command():\n",
    "    # Navigate to the Wav2Lip directory\n",
    "    wav2lip_dir = '/home/vardh/ai-news-avatar/Wav2Lip'\n",
    "    os.chdir(wav2lip_dir)\n",
    "\n",
    "    # Construct the command\n",
    "    command = [\n",
    "        'python', 'inference.py',\n",
    "        '--checkpoint_path', 'checkpoints/wav2lip.pth',\n",
    "        '--face', 'face.mp4',\n",
    "        '--audio', 'output.wav'\n",
    "    ]\n",
    "\n",
    "    # Run the command\n",
    "    result = subprocess.run(command)\n",
    "    return '/home/vardh/ai-news-avatar/Wav2Lip/results/result_voice.mp4'\n",
    "\n"
   ]
  },
  {
   "cell_type": "code",
   "execution_count": null,
   "metadata": {},
   "outputs": [],
   "source": [
    "# Download MobileNet from here: https://drive.google.com/drive/folders/1oZRSG0ZegbVkVwUd8wUIQx8W7yfZ_ki1"
   ]
  },
  {
   "cell_type": "code",
   "execution_count": 36,
   "metadata": {},
   "outputs": [
    {
     "name": "stdout",
     "output_type": "stream",
     "text": [
      "Running on local URL:  http://0.0.0.0:7861\n",
      "\n",
      "To create a public link, set `share=True` in `launch()`.\n"
     ]
    },
    {
     "data": {
      "text/html": [
       "<div><iframe src=\"http://localhost:7861/\" width=\"100%\" height=\"500\" allow=\"autoplay; camera; microphone; clipboard-read; clipboard-write;\" frameborder=\"0\" allowfullscreen></iframe></div>"
      ],
      "text/plain": [
       "<IPython.core.display.HTML object>"
      ]
     },
     "metadata": {},
     "output_type": "display_data"
    },
    {
     "data": {
      "text/plain": []
     },
     "execution_count": 36,
     "metadata": {},
     "output_type": "execute_result"
    },
    {
     "name": "stdout",
     "output_type": "stream",
     "text": [
      "TTS generation successful, output saved to 'output.wav'\n"
     ]
    },
    {
     "name": "stderr",
     "output_type": "stream",
     "text": [
      "Traceback (most recent call last):\n",
      "  File \"/home/vardh/.local/lib/python3.10/site-packages/gradio/queueing.py\", line 528, in process_events\n",
      "    response = await route_utils.call_process_api(\n",
      "  File \"/home/vardh/.local/lib/python3.10/site-packages/gradio/route_utils.py\", line 270, in call_process_api\n",
      "    output = await app.get_blocks().process_api(\n",
      "  File \"/home/vardh/.local/lib/python3.10/site-packages/gradio/blocks.py\", line 1908, in process_api\n",
      "    result = await self.call_function(\n",
      "  File \"/home/vardh/.local/lib/python3.10/site-packages/gradio/blocks.py\", line 1485, in call_function\n",
      "    prediction = await anyio.to_thread.run_sync(\n",
      "  File \"/opt/conda/lib/python3.10/site-packages/anyio/to_thread.py\", line 56, in run_sync\n",
      "    return await get_async_backend().run_sync_in_worker_thread(\n",
      "  File \"/opt/conda/lib/python3.10/site-packages/anyio/_backends/_asyncio.py\", line 2134, in run_sync_in_worker_thread\n",
      "    return await future\n",
      "  File \"/opt/conda/lib/python3.10/site-packages/anyio/_backends/_asyncio.py\", line 851, in run\n",
      "    result = context.run(func, *args)\n",
      "  File \"/home/vardh/.local/lib/python3.10/site-packages/gradio/utils.py\", line 808, in wrapper\n",
      "    response = f(*args, **kwargs)\n",
      "  File \"/var/tmp/ipykernel_3057655/1936691865.py\", line 7, in run_wav2lip_command\n",
      "    os.chdir(wav2lip_dir)\n",
      "FileNotFoundError: [Errno 2] No such file or directory: 'Wav2Lip'\n"
     ]
    }
   ],
   "source": [
    "import gradio as gr\n",
    "\n",
    "with gr.Blocks() as demo:\n",
    "    with gr.Row():\n",
    "        btn = gr.Button(\"Fetch Latest News\")\n",
    "        response = gr.Text()\n",
    "    with gr.Row():\n",
    "        query = gr.Textbox(label= \"Ask me about the news\")\n",
    "        news_text = gr.Textbox(label= \"Response\")\n",
    "    with gr.Row():\n",
    "        news_audio = gr.Audio(label= 'Audio Response', type= 'filepath')\n",
    "        news_video = gr.Video(label= 'Lip Synced Video')\n",
    "\n",
    "\n",
    "    btn.click(fn= scrape_news_data, inputs= None, outputs= response)\n",
    "    news_query = query.submit(fn= respond_to_query, inputs= query, outputs= news_text)\n",
    "    audio_query = news_query.then(fn= run_tts_command, inputs= news_text , outputs= news_audio)\n",
    "    audio_query.then(fn= run_wav2lip_command, inputs= None, outputs= news_video)\n",
    "\n",
    "demo.launch(server_name='0.0.0.0')"
   ]
  },
  {
   "cell_type": "code",
   "execution_count": null,
   "metadata": {},
   "outputs": [],
   "source": []
  }
 ],
 "metadata": {
  "kernelspec": {
   "display_name": "base",
   "language": "python",
   "name": "python3"
  },
  "language_info": {
   "codemirror_mode": {
    "name": "ipython",
    "version": 3
   },
   "file_extension": ".py",
   "mimetype": "text/x-python",
   "name": "python",
   "nbconvert_exporter": "python",
   "pygments_lexer": "ipython3",
   "version": "3.10.13"
  }
 },
 "nbformat": 4,
 "nbformat_minor": 2
}
